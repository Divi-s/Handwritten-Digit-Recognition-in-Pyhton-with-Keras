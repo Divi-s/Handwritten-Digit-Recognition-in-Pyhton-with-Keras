{
 "cells": [
  {
   "cell_type": "code",
   "execution_count": 23,
   "metadata": {},
   "outputs": [],
   "source": [
    "import numpy as np\n",
    "from keras.datasets import mnist\n",
    "from keras.models import Sequential\n",
    "from keras.layers import Dense\n",
    "from keras.layers import Dropout\n",
    "from keras.layers import Flatten\n",
    "from keras.layers.convolutional import Conv2D\n",
    "from keras.layers.convolutional import MaxPooling2D\n",
    "from keras import backend as K\n",
    "from keras.utils import np_utils\n",
    "K.set_image_dim_ordering('th')\n",
    "#tensor with shape (samples, rows, cols, channels) \n",
    "#Theano will expect 'channels' at the second dimension (index 1) – i.e. tensor with shape (samples, channels, rows, cols).\n",
    "\n",
    "#fix seed for reproducibility\n",
    "seed=7\n",
    "numpy.random.seed(seed)\n",
    "\n",
    "#load data\n",
    "(X_train, y_train), (X_test, y_test) = mnist.load_data()\n",
    "#reshape to be [samples][pixels][width][height]\n",
    "X_train=X_train.reshape(X_train.shape[0],1, 28, 28).astype('float32')\n",
    "X_test = X_test.reshape(X_test.shape[0], 1, 28, 28).astype('float32')\n",
    "\n",
    "# normalizing inputs from 0-255 to 0-1\n",
    "X_train = X_train/255\n",
    "X_test = X_test/255\n",
    "# one hot encode outputs\n",
    "y_train = np_utils.to_categorical(y_train)\n",
    "y_test = np_utils.to_categorical(y_test)\n",
    "num_classes = y_test.shape[1]\n",
    "\n",
    "\n",
    "def baseline_model():\n",
    "    # create model\n",
    "    model = Sequential()\n",
    "    model.add(Conv2D(32, (5,5), input_shape=(1, 28, 28), activation = 'relu'))\n",
    "    model.add(MaxPooling2D(pool_size=(2, 2)))\n",
    "    model.add(Dropout(0.2))\n",
    "    model.add(Flatten())\n",
    "    model.add(Dense(128, activation = 'relu'))\n",
    "    model.add(Dense(num_classes, activation = 'softmax'))\n",
    "    # compile model\n",
    "    model.compile(loss = 'categorical_crossentropy', optimizer='adam', metrics=['accuracy'])\n",
    "    return model"
   ]
  },
  {
   "cell_type": "code",
   "execution_count": 25,
   "metadata": {},
   "outputs": [
    {
     "name": "stdout",
     "output_type": "stream",
     "text": [
      "Train on 60000 samples, validate on 10000 samples\n",
      "Epoch 1/10\n",
      " - 153s - loss: 0.2409 - acc: 0.9311 - val_loss: 0.0704 - val_acc: 0.9790\n",
      "Epoch 2/10\n",
      " - 158s - loss: 0.0699 - acc: 0.9795 - val_loss: 0.0467 - val_acc: 0.9861\n",
      "Epoch 3/10\n",
      " - 144s - loss: 0.0499 - acc: 0.9854 - val_loss: 0.0373 - val_acc: 0.9882\n",
      "Epoch 4/10\n",
      " - 146s - loss: 0.0383 - acc: 0.9880 - val_loss: 0.0355 - val_acc: 0.9885\n",
      "Epoch 5/10\n",
      " - 150s - loss: 0.0315 - acc: 0.9903 - val_loss: 0.0466 - val_acc: 0.9861\n",
      "Epoch 6/10\n",
      " - 143s - loss: 0.0251 - acc: 0.9923 - val_loss: 0.0335 - val_acc: 0.9886\n",
      "Epoch 7/10\n",
      " - 146s - loss: 0.0212 - acc: 0.9933 - val_loss: 0.0346 - val_acc: 0.9891\n",
      "Epoch 8/10\n",
      " - 153s - loss: 0.0187 - acc: 0.9940 - val_loss: 0.0316 - val_acc: 0.9891\n",
      "Epoch 9/10\n",
      " - 152s - loss: 0.0161 - acc: 0.9950 - val_loss: 0.0394 - val_acc: 0.9884\n",
      "Epoch 10/10\n",
      " - 147s - loss: 0.0137 - acc: 0.9957 - val_loss: 0.0281 - val_acc: 0.9907\n",
      "CNN Error: 0.93%\n"
     ]
    }
   ],
   "source": [
    "# build the model\n",
    "model = baseline_model()\n",
    "# Fit the model\n",
    "model.fit(X_train, y_train, validation_data=(X_test, y_test), epochs=10, batch_size=200, verbose=2)\n",
    "# Final evaluation of the model\n",
    "scores = model.evaluate(X_test, y_test, verbose=2)\n",
    "print(\"CNN Error: %.2f%%\" % (100-scores[1]*100))"
   ]
  },
  {
   "cell_type": "code",
   "execution_count": null,
   "metadata": {
    "collapsed": true
   },
   "outputs": [],
   "source": []
  }
 ],
 "metadata": {
  "kernelspec": {
   "display_name": "myenv",
   "language": "python",
   "name": "myenv"
  },
  "language_info": {
   "codemirror_mode": {
    "name": "ipython",
    "version": 3
   },
   "file_extension": ".py",
   "mimetype": "text/x-python",
   "name": "python",
   "nbconvert_exporter": "python",
   "pygments_lexer": "ipython3",
   "version": "3.6.6"
  }
 },
 "nbformat": 4,
 "nbformat_minor": 2
}
