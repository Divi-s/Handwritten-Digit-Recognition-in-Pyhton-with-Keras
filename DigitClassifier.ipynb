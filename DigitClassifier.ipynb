{
 "cells": [
  {
   "cell_type": "code",
   "execution_count": 1,
   "metadata": {},
   "outputs": [
    {
     "name": "stderr",
     "output_type": "stream",
     "text": [
      "Using TensorFlow backend.\n"
     ]
    }
   ],
   "source": [
    "import numpy \n",
    "from keras.datasets import mnist\n",
    "from keras.models import Sequential\n",
    "from keras.layers import Dense\n",
    "from keras.layers import Dropout\n",
    "from keras.utils import np_utils\n",
    "\n",
    "#fix random seed for reproducibility\n",
    "seed=7\n",
    "numpy.random.seed(seed)\n",
    "\n",
    "#load data\n",
    "(X_train, y_train), (X_test, y_test)=mnist.load_data()\n",
    "\n",
    "#flatten 28*28 images to a 784 vector for each image\n",
    "num_pixels=X_train.shape[1]*X_train.shape[2]\n",
    "X_train = X_train.reshape(X_train.shape[0], num_pixels).astype('float32')\n",
    "X_test = X_test.reshape(X_test.shape[0], num_pixels).astype('float32')"
   ]
  },
  {
   "cell_type": "code",
   "execution_count": 8,
   "metadata": {},
   "outputs": [
    {
     "name": "stdout",
     "output_type": "stream",
     "text": [
      "(10000, 10, 2)\n",
      "(10000, 10, 2, 2)\n"
     ]
    }
   ],
   "source": [
    "#normalize inputs from 0-255 to 0-1\n",
    "X_train = X_train/255\n",
    "X_test = X_test/255\n",
    "\n",
    "print(y_test.shape)\n",
    "#one hot encode outputs\n",
    "y_train = np_utils.to_categorical(y_train)\n",
    "y_test = np_utils.to_categorical(y_test)\n",
    "num_classes = y_test.shape[1]\n",
    "print(y_test.shape)"
   ]
  },
  {
   "cell_type": "code",
   "execution_count": 5,
   "metadata": {
    "collapsed": true
   },
   "outputs": [],
   "source": [
    "#define baseline model\n",
    "def baseline_model():\n",
    "    #create model\n",
    "    model = Sequential()\n",
    "    model.add(Dense(num_pixels, input_dim=num_pixels, kernel_initializer = 'normal', activation = 'relu'))\n",
    "    model.add(Dense(num_classes, kernel_initializer = 'normal', activation = 'softmax'))\n",
    "    model.compile(loss = 'categorical_crossentropy', optimizer = 'adam', metrics=['accuracy'])\n",
    "    return model"
   ]
  },
  {
   "cell_type": "code",
   "execution_count": 6,
   "metadata": {},
   "outputs": [
    {
     "name": "stdout",
     "output_type": "stream",
     "text": [
      "Train on 60000 samples, validate on 10000 samples\n",
      "Epoch 1/10\n",
      " - 25s - loss: 0.2812 - acc: 0.9196 - val_loss: 0.1399 - val_acc: 0.9593\n",
      "Epoch 2/10\n",
      " - 23s - loss: 0.1100 - acc: 0.9686 - val_loss: 0.0981 - val_acc: 0.9695\n",
      "Epoch 3/10\n",
      " - 23s - loss: 0.0719 - acc: 0.9792 - val_loss: 0.0796 - val_acc: 0.9738\n",
      "Epoch 4/10\n",
      " - 23s - loss: 0.0489 - acc: 0.9860 - val_loss: 0.0669 - val_acc: 0.9783\n",
      "Epoch 5/10\n",
      " - 23s - loss: 0.0367 - acc: 0.9895 - val_loss: 0.0681 - val_acc: 0.9785\n",
      "Epoch 6/10\n",
      " - 24s - loss: 0.0266 - acc: 0.9930 - val_loss: 0.0617 - val_acc: 0.9804\n",
      "Epoch 7/10\n",
      " - 23s - loss: 0.0196 - acc: 0.9953 - val_loss: 0.0586 - val_acc: 0.9819\n",
      "Epoch 8/10\n",
      " - 23s - loss: 0.0146 - acc: 0.9964 - val_loss: 0.0624 - val_acc: 0.9810\n",
      "Epoch 9/10\n",
      " - 23s - loss: 0.0115 - acc: 0.9974 - val_loss: 0.0639 - val_acc: 0.9805\n",
      "Epoch 10/10\n",
      " - 24s - loss: 0.0085 - acc: 0.9982 - val_loss: 0.0583 - val_acc: 0.9828\n",
      "Baseline Error: 1.72% \n"
     ]
    }
   ],
   "source": [
    "#create the model\n",
    "model = baseline_model()\n",
    "#fit the model\n",
    "model.fit(X_train, y_train, validation_data = (X_test, y_test), epochs=10, batch_size=200, verbose=2)\n",
    "#Final evaluation of the model\n",
    "scores = model.evaluate(X_test, y_test, verbose = 0)\n",
    "print(\"Baseline Error: %.2f%% \" % (100-scores[1]*100))"
   ]
  },
  {
   "cell_type": "code",
   "execution_count": null,
   "metadata": {
    "collapsed": true
   },
   "outputs": [],
   "source": []
  },
  {
   "cell_type": "code",
   "execution_count": null,
   "metadata": {
    "collapsed": true
   },
   "outputs": [],
   "source": []
  }
 ],
 "metadata": {
  "kernelspec": {
   "display_name": "myenv",
   "language": "python",
   "name": "myenv"
  },
  "language_info": {
   "codemirror_mode": {
    "name": "ipython",
    "version": 3
   },
   "file_extension": ".py",
   "mimetype": "text/x-python",
   "name": "python",
   "nbconvert_exporter": "python",
   "pygments_lexer": "ipython3",
   "version": "3.6.6"
  }
 },
 "nbformat": 4,
 "nbformat_minor": 2
}
